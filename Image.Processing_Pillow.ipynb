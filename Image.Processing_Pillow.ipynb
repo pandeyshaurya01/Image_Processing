{
 "cells": [
  {
   "cell_type": "code",
   "execution_count": 2,
   "id": "c4a0ffb7",
   "metadata": {},
   "outputs": [],
   "source": [
    "\n",
    "import numpy as np\n"
   ]
  },
  {
   "cell_type": "code",
   "execution_count": 6,
   "id": "cea9519b",
   "metadata": {},
   "outputs": [],
   "source": [
    "#Concepts Used\n",
    "x = np.zeros([100,100])#Initailize a 2D array of zeros\n",
    "x = np.zeros_like(x)#Initailize a 2D array with having d-type and shape similar to previous one.\n",
    "x = np.ones([100,100])#Initailize a 2D array of ones\n",
    "x = np.ones_like(x)"
   ]
  },
  {
   "cell_type": "code",
   "execution_count": 8,
   "id": "cd11efe6",
   "metadata": {},
   "outputs": [
    {
     "data": {
      "text/plain": [
       "array([10, 15, 20, 25, 30, 35, 40, 45, 50, 55, 60, 65, 70, 75, 80, 85, 90,\n",
       "       95])"
      ]
     },
     "execution_count": 8,
     "metadata": {},
     "output_type": "execute_result"
    }
   ],
   "source": [
    "x=np.arange(10,100,5)#Initialize a operator which generates value starting from 10 to 100 with step size of 5\n",
    "x"
   ]
  },
  {
   "cell_type": "code",
   "execution_count": 9,
   "id": "d47a0477",
   "metadata": {},
   "outputs": [],
   "source": [
    "x=np.random.uniform(low=0,high=1,size=(100,100))#generate random numbers from the uniform distribution\n",
    "x=np.random.randn(100,100) #generate random numbers from the normal gaussian distribution\n",
    "x=np.random.normal(loc=0,scale=1,size=(100,100)) #generate random numbers from the gaussian distribution\n"
   ]
  },
  {
   "cell_type": "code",
   "execution_count": 11,
   "id": "d92e8cf1",
   "metadata": {},
   "outputs": [
    {
     "data": {
      "text/plain": [
       "array([[ 0,  1,  2,  3,  4,  5,  6,  7,  8,  9],\n",
       "       [10, 11, 12, 13, 14, 15, 16, 17, 18, 19],\n",
       "       [20, 21, 22, 23, 24, 25, 26, 27, 28, 29],\n",
       "       [30, 31, 32, 33, 34, 35, 36, 37, 38, 39],\n",
       "       [40, 41, 42, 43, 44, 45, 46, 47, 48, 49],\n",
       "       [50, 51, 52, 53, 54, 55, 56, 57, 58, 59],\n",
       "       [60, 61, 62, 63, 64, 65, 66, 67, 68, 69],\n",
       "       [70, 71, 72, 73, 74, 75, 76, 77, 78, 79],\n",
       "       [80, 81, 82, 83, 84, 85, 86, 87, 88, 89],\n",
       "       [90, 91, 92, 93, 94, 95, 96, 97, 98, 99]])"
      ]
     },
     "execution_count": 11,
     "metadata": {},
     "output_type": "execute_result"
    }
   ],
   "source": [
    "arranged_100= np.arange(0,100,1).reshape([10,10])\n",
    "arranged_100"
   ]
  },
  {
   "cell_type": "code",
   "execution_count": 12,
   "id": "3a410b78",
   "metadata": {},
   "outputs": [
    {
     "data": {
      "text/plain": [
       "array([[50, 51, 52, 53, 54],\n",
       "       [60, 61, 62, 63, 64],\n",
       "       [70, 71, 72, 73, 74],\n",
       "       [80, 81, 82, 83, 84],\n",
       "       [90, 91, 92, 93, 94]])"
      ]
     },
     "execution_count": 12,
     "metadata": {},
     "output_type": "execute_result"
    }
   ],
   "source": [
    "cropped_slice=arranged_100[5:10,0:5]\n",
    "cropped_slice"
   ]
  },
  {
   "cell_type": "code",
   "execution_count": 13,
   "id": "478d6bc1",
   "metadata": {},
   "outputs": [
    {
     "name": "stdout",
     "output_type": "stream",
     "text": [
      "[[ 60  61  62  63  64]\n",
      " [ 70  71  72  73  74]\n",
      " [ 80  81  82  83  84]\n",
      " [ 90  91  92  93  94]\n",
      " [100 101 102 103 104]]\n"
     ]
    }
   ],
   "source": [
    "print(cropped_slice + 10)"
   ]
  },
  {
   "cell_type": "code",
   "execution_count": 14,
   "id": "20633f66",
   "metadata": {},
   "outputs": [
    {
     "data": {
      "text/plain": [
       "array([[1., 0., 0., 0., 0.],\n",
       "       [0., 1., 0., 0., 0.],\n",
       "       [0., 0., 1., 0., 0.],\n",
       "       [0., 0., 0., 1., 0.],\n",
       "       [0., 0., 0., 0., 1.]])"
      ]
     },
     "execution_count": 14,
     "metadata": {},
     "output_type": "execute_result"
    }
   ],
   "source": [
    "x= np.zeros([5,5])\n",
    "x[np.arange(5),np.arange(5)]=1\n",
    "x"
   ]
  },
  {
   "cell_type": "code",
   "execution_count": 14,
   "id": "ce419b94",
   "metadata": {},
   "outputs": [
    {
     "name": "stdout",
     "output_type": "stream",
     "text": [
      "<PIL.JpegImagePlugin.JpegImageFile image mode=RGB size=7200x4800 at 0x19317B6B2B0>\n"
     ]
    }
   ],
   "source": [
    "#Image as as 3-D Array\n",
    "#Numpy array has some number of rows and columns and 3 Dimensions(red,green,blue).\n",
    "#We can Image proceesing by 3 libraries in python. #matplotlib#openCV#Pillow\n",
    "#We will see here Pillow.\n",
    "\n",
    "from PIL import Image\n",
    "img = Image.open('pexels-zett-foto-672142.jpg')\n",
    "print(img)"
   ]
  },
  {
   "cell_type": "code",
   "execution_count": 4,
   "id": "919156e3",
   "metadata": {},
   "outputs": [],
   "source": [
    "img.show()"
   ]
  },
  {
   "cell_type": "code",
   "execution_count": null,
   "id": "f511be4f",
   "metadata": {},
   "outputs": [],
   "source": [
    "#.new function---we can define new image from this function\n",
    "# syntax Image.new(mode,size,colour)  mode=RGB,RGBA,.... size= any tuple of your choice , colour= any tuple of size 3 of your choice\n",
    "\n",
    "img = Image.new('RGB',(400,500),(255,0,0))\n",
    "img.show()\n",
    "img = Image.new('RGB',(400,500),'Yellow')# we can simply give color name also.\n",
    "img.show()\n",
    "\n"
   ]
  },
  {
   "attachments": {},
   "cell_type": "markdown",
   "id": "4d225d02",
   "metadata": {},
   "source": [
    "img = Image.open('pexels-zett-foto-672142.jpg')\n",
    "print(img)\n"
   ]
  },
  {
   "cell_type": "code",
   "execution_count": 5,
   "id": "f4310c4d",
   "metadata": {},
   "outputs": [
    {
     "name": "stdout",
     "output_type": "stream",
     "text": [
      "<PIL.JpegImagePlugin.JpegImageFile image mode=RGB size=7200x4800 at 0x19316E75240>\n"
     ]
    }
   ],
   "source": [
    "img = Image.open('pexels-zett-foto-672142.jpg')\n",
    "print(img)"
   ]
  },
  {
   "cell_type": "code",
   "execution_count": 7,
   "id": "b94e8807",
   "metadata": {},
   "outputs": [],
   "source": [
    "img = img.rotate(90,expand=True) #for rotating the image\n",
    "img.show()                       #expand=True to get image without loss of data"
   ]
  },
  {
   "cell_type": "code",
   "execution_count": 12,
   "id": "e6d1c962",
   "metadata": {},
   "outputs": [],
   "source": [
    "img = img.rotate(60,expand=True,fillcolor=\"Green\",resample=Image.BICUBIC,center=(100,100))\n",
    "img.show()                                          "
   ]
  },
  {
   "cell_type": "code",
   "execution_count": 15,
   "id": "f1e734d2",
   "metadata": {},
   "outputs": [],
   "source": [
    "img = img.rotate(60,expand=True,fillcolor=\"Green\")#fillcolor = to give background color\n",
    "img.show()"
   ]
  },
  {
   "cell_type": "code",
   "execution_count": null,
   "id": "50d7baa4",
   "metadata": {},
   "outputs": [],
   "source": [
    "img = img.rotate(60,expand=True,fillcolor=\"Green\",resample=Image.BICUBIC) #resample = to give full quality image\n",
    "img.show()  "
   ]
  },
  {
   "cell_type": "code",
   "execution_count": 16,
   "id": "337bd460",
   "metadata": {},
   "outputs": [],
   "source": [
    "img = img.rotate(60,expand=True,fillcolor=\"Green\",resample=Image.BICUBIC,center=(100,100)) #center = to change center of rotation\n",
    "img.show()  "
   ]
  },
  {
   "cell_type": "code",
   "execution_count": 20,
   "id": "82d0e7ee",
   "metadata": {},
   "outputs": [
    {
     "name": "stdout",
     "output_type": "stream",
     "text": [
      "7200 4800\n"
     ]
    }
   ],
   "source": [
    "img = Image.open('pexels-zett-foto-672142.jpg')\n",
    "print(img.width,img.height)\n",
    "img.show()"
   ]
  },
  {
   "cell_type": "code",
   "execution_count": 21,
   "id": "2a301ca2",
   "metadata": {},
   "outputs": [
    {
     "name": "stdout",
     "output_type": "stream",
     "text": [
      "3600 2400\n"
     ]
    }
   ],
   "source": [
    "img = img.resize((int(img.width/2),int(img.height/2))) #to change width and height of image\n",
    "print(img.width,img.height)\n",
    "img.show()"
   ]
  },
  {
   "cell_type": "code",
   "execution_count": 22,
   "id": "6d573129",
   "metadata": {},
   "outputs": [
    {
     "name": "stdout",
     "output_type": "stream",
     "text": [
      "7200 4800\n"
     ]
    }
   ],
   "source": [
    "img = img.resize((int(img.width*2),int(img.height*2)),box=(20,20,100,100)) #box is used to scale the image with particular coordinate and present it by choicr of your size\n",
    "print(img.width,img.height)\n",
    "img.show()"
   ]
  },
  {
   "cell_type": "code",
   "execution_count": 24,
   "id": "241a5b06",
   "metadata": {},
   "outputs": [
    {
     "name": "stdout",
     "output_type": "stream",
     "text": [
      "<PIL.JpegImagePlugin.JpegImageFile image mode=RGB size=7200x4800 at 0x19316E759C0>\n",
      "<PIL.JpegImagePlugin.JpegImageFile image mode=RGB size=7200x4800 at 0x19316FF1C30>\n"
     ]
    }
   ],
   "source": [
    "#for blending 2 images, both the images should be of same size\n",
    "#syntax: (img1,img2,alpha)...alpha is interpolating constant, if we give alpha as 0...then img2 will be considered as transparent and if as 1 then img1 will be considered as transparent\n",
    "#for ideal result give alpha as 0.5\n",
    "\n",
    "img1 = Image.open('pexels-zett-foto-672142.jpg')\n",
    "img2 = Image.open('pexels-zett-foto-672142.jpg')\n",
    "print(img1)\n",
    "print(img2)\n"
   ]
  },
  {
   "cell_type": "code",
   "execution_count": 25,
   "id": "04ca133e",
   "metadata": {},
   "outputs": [],
   "source": [
    "img = Image.blend(img1,img2,alpha=0.5)\n",
    "img.show()"
   ]
  },
  {
   "cell_type": "code",
   "execution_count": 26,
   "id": "99a453b7",
   "metadata": {},
   "outputs": [
    {
     "name": "stdout",
     "output_type": "stream",
     "text": [
      "<PIL.JpegImagePlugin.JpegImageFile image mode=RGB size=7200x4800 at 0x1934646F040>\n"
     ]
    }
   ],
   "source": [
    "img = Image.open('pexels-zett-foto-672142.jpg')\n",
    "print(img)"
   ]
  },
  {
   "cell_type": "code",
   "execution_count": 27,
   "id": "17eae300",
   "metadata": {},
   "outputs": [],
   "source": [
    "imgcrop= img.crop(box= (20,20,200,200)) #to crop the particular part of the image for this we have to define box(point of start, point of end , width of box, height of box)\n",
    "imgcrop.show()"
   ]
  },
  {
   "cell_type": "code",
   "execution_count": null,
   "id": "89d92d93",
   "metadata": {},
   "outputs": [],
   "source": []
  }
 ],
 "metadata": {
  "kernelspec": {
   "display_name": "Python 3 (ipykernel)",
   "language": "python",
   "name": "python3"
  },
  "language_info": {
   "codemirror_mode": {
    "name": "ipython",
    "version": 3
   },
   "file_extension": ".py",
   "mimetype": "text/x-python",
   "name": "python",
   "nbconvert_exporter": "python",
   "pygments_lexer": "ipython3",
   "version": "3.10.9"
  }
 },
 "nbformat": 4,
 "nbformat_minor": 5
}
